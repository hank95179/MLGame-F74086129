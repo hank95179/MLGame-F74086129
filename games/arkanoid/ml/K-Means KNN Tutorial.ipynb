{
 "cells": [
  {
   "cell_type": "markdown",
   "metadata": {},
   "source": [
    "# K-means\n",
    "https://scikit-learn.org/stable/\n",
    "<img src=\"https://mofanpy.com/static/results/sklearn/2_1_1.png\">\n",
    "\n",
    "## K-means是一種分群方法，為非監督式學習\n",
    "\n",
    "### 1. 設定n群\n",
    "### 2. K-means隨機給予n個群心\n",
    "### 3. 每個點用距離公式計算並分類給最近的群\n",
    "### 4. 用每一群的點重新計算群心\n",
    "### 5. 重複3、4步驟直到收斂"
   ]
  },
  {
   "cell_type": "code",
   "execution_count": 2,
   "metadata": {},
   "outputs": [
    {
     "data": {
      "image/png": "[encoded data removed]",
      "text/plain": [
       "<Figure size 432x288 with 1 Axes>"
      ]
     },
     "metadata": {
      "needs_background": "light"
     },
     "output_type": "display_data"
    }
   ],
   "source": [
    "%matplotlib inline\n",
    "\n",
    "import random\n",
    "import numpy as np\n",
    "from sklearn import cluster, metrics\n",
    "import matplotlib.pyplot as plt\n",
    "\n",
    "feature = np.array([2, 2])\n",
    "for i in range(3000):\n",
    "    if i%3 == 0:\n",
    "        x = 3 + random.normalvariate(0, 1.2)\n",
    "        y = 3 + random.normalvariate(0, 1.2)\n",
    "        feature = np.vstack((feature, [x, y]))\n",
    "        plt.scatter(x, y , color='b', s=2)\n",
    "    elif i%3 == 1:\n",
    "        x = 7 + random.normalvariate(0, 1)\n",
    "        y = 7 + random.normalvariate(0, 1)\n",
    "        feature = np.vstack((feature, [x, y]))\n",
    "        plt.scatter(x, y , color='r', s=2)\n",
    "    else:\n",
    "        x = 8 + random.normalvariate(0, 0.7)\n",
    "        y = 2 + random.normalvariate(0, 0.7)\n",
    "        feature = np.vstack((feature, [x, y]))\n",
    "        plt.scatter(x, y , color='g', s=2)\n",
    "feature = feature[1:]\n",
    "\n",
    "plt.xlim(0, 10)\n",
    "plt.ylim(0, 10)\n",
    "plt.show()"
   ]
  },
  {
   "cell_type": "code",
   "execution_count": 3,
   "metadata": {},
   "outputs": [
    {
     "data": {
      "text/plain": [
       "array([[2.23829408, 3.17182754],\n",
       "       [5.98390336, 7.86655432],\n",
       "       [8.92795129, 0.84688462],\n",
       "       ...,\n",
       "       [3.73208426, 4.33729695],\n",
       "       [7.83423152, 7.42748009],\n",
       "       [7.85553001, 2.5872086 ]])"
      ]
     },
     "execution_count": 3,
     "metadata": {},
     "output_type": "execute_result"
    }
   ],
   "source": [
    "feature"
   ]
  },
  {
   "cell_type": "markdown",
   "metadata": {},
   "source": [
    "### K-means官方文件\n",
    "https://scikit-learn.org/stable/modules/generated/sklearn.cluster.KMeans.html"
   ]
  },
  {
   "cell_type": "code",
   "execution_count": 4,
   "metadata": {},
   "outputs": [
    {
     "data": {
      "image/png": "[encoded data removed]",
      "text/plain": [
       "<Figure size 432x288 with 1 Axes>"
      ]
     },
     "metadata": {
      "needs_background": "light"
     },
     "output_type": "display_data"
    },
    {
     "name": "stdout",
     "output_type": "stream",
     "text": [
      "[0.46860139276947416, 0.6535743985981701, 0.5528868530221117, 0.44767471176576557, 0.451386468178418]\n"
     ]
    }
   ],
   "source": [
    "# 迴圈\n",
    "silhouette_avgs = []\n",
    "ks = range(2, 7)\n",
    "for k in ks:\n",
    "    kmeans_fit = cluster.KMeans(n_clusters = k).fit(feature)\n",
    "    cluster_labels = kmeans_fit.labels_\n",
    "    silhouette_avg = metrics.silhouette_score(feature, cluster_labels) # -1 ~ 1\n",
    "    silhouette_avgs.append(silhouette_avg)\n",
    "\n",
    "# 作圖並印出 k = 2 到 10 的績效\n",
    "plt.bar(ks, silhouette_avgs)\n",
    "plt.show()\n",
    "print(silhouette_avgs)"
   ]
  },
  {
   "cell_type": "code",
   "execution_count": 7,
   "metadata": {},
   "outputs": [
    {
     "name": "stdout",
     "output_type": "stream",
     "text": [
      "[3 1 2 ... 5 4 2]\n"
     ]
    }
   ],
   "source": [
    "print(cluster_labels)"
   ]
  },
  {
   "cell_type": "code",
   "execution_count": 9,
   "metadata": {},
   "outputs": [
    {
     "data": {
      "text/html": [
       "<iframe width=\"560\" height=\"315\" src=\"https://www.youtube.com/embed/0DGtyMBOZ-c\" frameborder=\"0\" allow=\"accelerometer; autoplay; clipboard-write; encrypted-media; gyroscope; picture-in-picture\" allowfullscreen></iframe>"
      ],
      "text/plain": [
       "<IPython.core.display.HTML object>"
      ]
     },
     "execution_count": 9,
     "metadata": {},
     "output_type": "execute_result"
    }
   ],
   "source": [
    "from IPython.display import HTML\n",
    "HTML('<iframe width=\"560\" height=\"315\" src=\"https://www.youtube.com/embed/0DGtyMBOZ-c\" frameborder=\"0\" allow=\"accelerometer; autoplay; clipboard-write; encrypted-media; gyroscope; picture-in-picture\" allowfullscreen></iframe>')\n",
    "# 出處: https://chih-sheng-huang821.medium.com/%E6%A9%9F%E5%99%A8%E5%AD%B8%E7%BF%92-%E9%9B%86%E7%BE%A4%E5%88%86%E6%9E%90-k-means-clustering-e608a7fe1b43"
   ]
  },
  {
   "cell_type": "markdown",
   "metadata": {},
   "source": [
    "# KNN(k nearest neighbors)\n",
    "## KNN可以做分類或回歸，為監督式學習\n",
    "### 1. 設定k值\n",
    "### 2. 計算距離公式找出k個最相近的特徵\n",
    "### 3. 分類: k個特徵投票、回歸: 平均k個特徵\n",
    "<img src=\"https://ww2.mathworks.cn/matlabcentral/mlc-downloads/downloads/03faee64-e85e-4ea0-a2b4-e5964949e2d1/d99b9a4d-618c-45f0-86d1-388bdf852c1d/images/screenshot.gif\">"
   ]
  },
  {
   "cell_type": "markdown",
   "metadata": {},
   "source": [
    "### 蒐集資料\n",
    "python MLGame.py -i ml_play_template.py -f 200 -r arkanoid NORMAL 3"
   ]
  },
  {
   "cell_type": "code",
   "execution_count": 1,
   "metadata": {},
   "outputs": [
    {
     "ename": "FileNotFoundError",
     "evalue": "[Errno 2] No such file or directory: '../log/n3 (1).pickle'",
     "output_type": "error",
     "traceback": [
      "\u001b[1;31m---------------------------------------------------------------------------\u001b[0m",
      "\u001b[1;31mFileNotFoundError\u001b[0m                         Traceback (most recent call last)",
      "\u001b[1;32m<ipython-input-1-e58853d7b53f>\u001b[0m in \u001b[0;36m<module>\u001b[1;34m\u001b[0m\n\u001b[0;32m      8\u001b[0m \u001b[1;33m\u001b[0m\u001b[0m\n\u001b[0;32m      9\u001b[0m \u001b[1;31m#試取資料\u001b[0m\u001b[1;33m\u001b[0m\u001b[1;33m\u001b[0m\u001b[1;33m\u001b[0m\u001b[0m\n\u001b[1;32m---> 10\u001b[1;33m \u001b[0mfile\u001b[0m \u001b[1;33m=\u001b[0m \u001b[0mopen\u001b[0m\u001b[1;33m(\u001b[0m\u001b[1;34m\"../log/n3 (1).pickle\"\u001b[0m\u001b[1;33m,\u001b[0m \u001b[1;34m\"rb\"\u001b[0m\u001b[1;33m)\u001b[0m\u001b[1;33m\u001b[0m\u001b[1;33m\u001b[0m\u001b[0m\n\u001b[0m\u001b[0;32m     11\u001b[0m \u001b[0mdata\u001b[0m \u001b[1;33m=\u001b[0m \u001b[0mpickle\u001b[0m\u001b[1;33m.\u001b[0m\u001b[0mload\u001b[0m\u001b[1;33m(\u001b[0m\u001b[0mfile\u001b[0m\u001b[1;33m)\u001b[0m\u001b[1;33m\u001b[0m\u001b[1;33m\u001b[0m\u001b[0m\n\u001b[0;32m     12\u001b[0m \u001b[0mfile\u001b[0m\u001b[1;33m.\u001b[0m\u001b[0mclose\u001b[0m\u001b[1;33m(\u001b[0m\u001b[1;33m)\u001b[0m\u001b[1;33m\u001b[0m\u001b[1;33m\u001b[0m\u001b[0m\n",
      "\u001b[1;31mFileNotFoundError\u001b[0m: [Errno 2] No such file or directory: '../log/n3 (1).pickle'"
     ]
    }
   ],
   "source": [
    "import pickle\n",
    "import numpy as np\n",
    "from sklearn.neighbors import KNeighborsClassifier\n",
    "from sklearn.model_selection import train_test_split, cross_val_score\n",
    "from sklearn.metrics import  classification_report, confusion_matrix\n",
    "from sklearn.model_selection import GridSearchCV\n",
    "from sklearn.model_selection import StratifiedShuffleSplit\n",
    "\n",
    "#試取資料\n",
    "file = open(\"../log/n3 (1).pickle\", \"rb\")\n",
    "data = pickle.load(file)\n",
    "file.close()\n",
    "\n",
    "print(data)"
   ]
  },
  {
   "cell_type": "code",
   "execution_count": 2,
   "metadata": {},
   "outputs": [
    {
     "ename": "NameError",
     "evalue": "name 'data' is not defined",
     "output_type": "error",
     "traceback": [
      "\u001b[1;31m---------------------------------------------------------------------------\u001b[0m",
      "\u001b[1;31mNameError\u001b[0m                                 Traceback (most recent call last)",
      "\u001b[1;32m<ipython-input-2-a908cd4cd60e>\u001b[0m in \u001b[0;36m<module>\u001b[1;34m\u001b[0m\n\u001b[1;32m----> 1\u001b[1;33m \u001b[0mgame_info\u001b[0m \u001b[1;33m=\u001b[0m \u001b[0mdata\u001b[0m\u001b[1;33m[\u001b[0m\u001b[1;34m'scene_info'\u001b[0m\u001b[1;33m]\u001b[0m\u001b[1;33m\u001b[0m\u001b[1;33m\u001b[0m\u001b[0m\n\u001b[0m\u001b[0;32m      2\u001b[0m \u001b[0mgame_command\u001b[0m \u001b[1;33m=\u001b[0m \u001b[0mdata\u001b[0m\u001b[1;33m[\u001b[0m\u001b[1;34m'command'\u001b[0m\u001b[1;33m]\u001b[0m\u001b[1;33m\u001b[0m\u001b[1;33m\u001b[0m\u001b[0m\n\u001b[0;32m      3\u001b[0m \u001b[0mprint\u001b[0m\u001b[1;33m(\u001b[0m\u001b[0mgame_info\u001b[0m\u001b[1;33m)\u001b[0m\u001b[1;33m\u001b[0m\u001b[1;33m\u001b[0m\u001b[0m\n\u001b[0;32m      4\u001b[0m \u001b[0mprint\u001b[0m\u001b[1;33m(\u001b[0m\u001b[0mgame_command\u001b[0m\u001b[1;33m)\u001b[0m\u001b[1;33m\u001b[0m\u001b[1;33m\u001b[0m\u001b[0m\n",
      "\u001b[1;31mNameError\u001b[0m: name 'data' is not defined"
     ]
    }
   ],
   "source": [
    "game_info = data['scene_info']\n",
    "game_command = data['command']\n",
    "print(game_info)\n",
    "print(game_command)"
   ]
  },
  {
   "cell_type": "code",
   "execution_count": 9,
   "metadata": {},
   "outputs": [
    {
     "name": "stdout",
     "output_type": "stream",
     "text": [
      "32544\n",
      "32544\n"
     ]
    }
   ],
   "source": [
    "game_info=[]\n",
    "game_command=[]\n",
    "import os\n",
    "dir_path = \"..\\logs\"\n",
    "for file_path in os.listdir(dir_path):\n",
    "    with open('..\\\\log\\\\' + file_path ,'rb') as f:\n",
    "        data = pickle.load(f)\n",
    "    game_info = game_info + data['scene_info']\n",
    "    game_command = game_command + data['command']\n",
    "print(len(game_info))\n",
    "print(len(game_command))"
   ]
  },
  {
   "cell_type": "markdown",
   "metadata": {},
   "source": [
    "### 特徵整理"
   ]
  },
  {
   "cell_type": "code",
   "execution_count": 10,
   "metadata": {},
   "outputs": [
    {
     "name": "stdout",
     "output_type": "stream",
     "text": [
      "[ 93 395  75]\n",
      "NONE\n"
     ]
    }
   ],
   "source": [
    "g = game_info[1]\n",
    "\n",
    "feature = np.array([g['ball'][0], g['ball'][1], g['platform'][0]])\n",
    "print(feature)\n",
    "\n",
    "print(game_command[1])\n",
    "game_command[1] = 0"
   ]
  },
  {
   "cell_type": "code",
   "execution_count": 11,
   "metadata": {},
   "outputs": [
    {
     "name": "stdout",
     "output_type": "stream",
     "text": [
      "[[ 93 395  75]\n",
      " [ 86 388  75]\n",
      " [ 79 381  70]\n",
      " ...\n",
      " [ 90 101  80]\n",
      " [100  94  80]\n",
      " [110  87  80]]\n",
      "(32542, 3)\n",
      "[0 1 1 ... 0 0 0]\n",
      "(32542,)\n"
     ]
    }
   ],
   "source": [
    "for i in range(2, len(game_info) - 1):\n",
    "    g = game_info[i]\n",
    "    feature = np.vstack((feature, [g['ball'][0], g['ball'][1], g['platform'][0]]))\n",
    "    if game_command[i] == \"NONE\": game_command[i] = 0\n",
    "    elif game_command[i] == \"MOVE_LEFT\": game_command[i] = 1\n",
    "    else: game_command[i] = 2\n",
    "    \n",
    "answer = np.array(game_command[1:-1])\n",
    "\n",
    "print(feature)\n",
    "print(feature.shape)\n",
    "print(answer)\n",
    "print(answer.shape)"
   ]
  },
  {
   "cell_type": "markdown",
   "metadata": {},
   "source": [
    "### KNN官方文件\n",
    "https://scikit-learn.org/stable/modules/generated/sklearn.neighbors.KNeighborsClassifier.html\n",
    "### 交叉驗證\n",
    "https://chih-sheng-huang821.medium.com/%E4%BA%A4%E5%8F%89%E9%A9%97%E8%AD%89-cross-validation-cv-3b2c714b18db"
   ]
  },
  {
   "cell_type": "code",
   "execution_count": 12,
   "metadata": {},
   "outputs": [
    {
     "name": "stdout",
     "output_type": "stream",
     "text": [
      "Fitting 2 folds for each of 3 candidates, totalling 6 fits\n"
     ]
    },
    {
     "name": "stderr",
     "output_type": "stream",
     "text": [
      "[Parallel(n_jobs=-1)]: Using backend LokyBackend with 8 concurrent workers.\n",
      "[Parallel(n_jobs=-1)]: Done   2 out of   6 | elapsed:    0.2s remaining:    0.5s\n",
      "[Parallel(n_jobs=-1)]: Done   3 out of   6 | elapsed:    0.2s remaining:    0.2s\n",
      "[Parallel(n_jobs=-1)]: Done   4 out of   6 | elapsed:    0.2s remaining:    0.1s\n",
      "[Parallel(n_jobs=-1)]: Done   6 out of   6 | elapsed:    0.2s remaining:    0.0s\n",
      "[Parallel(n_jobs=-1)]: Done   6 out of   6 | elapsed:    0.2s finished\n"
     ]
    }
   ],
   "source": [
    "#資料劃分\n",
    "x_train, x_test, y_train, y_test = train_test_split(feature, answer, test_size=0.3, random_state=9)\n",
    "#參數區間\n",
    "param_grid = {'n_neighbors':[1, 2, 3]}\n",
    "#交叉驗證 \n",
    "cv = StratifiedShuffleSplit(n_splits=2, test_size=0.3, random_state=12)\n",
    "grid = GridSearchCV(KNeighborsClassifier(), param_grid, cv=cv, verbose=10, n_jobs=-1) #n_jobs為平行運算的數量\n",
    "grid.fit(x_train, y_train)\n",
    "grid_predictions = grid.predict(x_test)\n",
    "\n",
    "#儲存\n",
    "file = open('model.pickle', 'wb')\n",
    "pickle.dump(grid, file)\n",
    "file.close()"
   ]
  },
  {
   "cell_type": "markdown",
   "metadata": {},
   "source": [
    "### f1-score\n",
    "https://medium.com/nlp-tsupei/precision-recall-f1-score%E7%B0%A1%E5%96%AE%E4%BB%8B%E7%B4%B9-f87baa82a47"
   ]
  },
  {
   "cell_type": "code",
   "execution_count": 13,
   "metadata": {},
   "outputs": [
    {
     "name": "stdout",
     "output_type": "stream",
     "text": [
      "{'n_neighbors': 1}\n",
      "[[7457    3    0]\n",
      " [   6 1116    0]\n",
      " [  17    3 1161]]\n",
      "              precision    recall  f1-score   support\n",
      "\n",
      "           0       1.00      1.00      1.00      7460\n",
      "           1       0.99      0.99      0.99      1122\n",
      "           2       1.00      0.98      0.99      1181\n",
      "\n",
      "    accuracy                           1.00      9763\n",
      "   macro avg       1.00      0.99      0.99      9763\n",
      "weighted avg       1.00      1.00      1.00      9763\n",
      "\n"
     ]
    }
   ],
   "source": [
    "#最佳參數\n",
    "print(grid.best_params_)\n",
    "#預測結果\n",
    "#print(grid_predictions)\n",
    "#混淆矩陣\n",
    "print(confusion_matrix(y_test, grid_predictions))\n",
    "#分類結果\n",
    "print(classification_report(y_test, grid_predictions))"
   ]
  },
  {
   "cell_type": "markdown",
   "metadata": {},
   "source": [
    "### 執行遊戲\n",
    "python MLGame.py -i knn.py -f 50 arkanoid NORMAL 3"
   ]
  }
 ],
 "metadata": {
  "kernelspec": {
   "display_name": "Python 3",
   "language": "python",
   "name": "python3"
  },
  "language_info": {
   "codemirror_mode": {
    "name": "ipython",
    "version": 3
   },
   "file_extension": ".py",
   "mimetype": "text/x-python",
   "name": "python",
   "nbconvert_exporter": "python",
   "pygments_lexer": "ipython3",
   "version": "3.8.5"
  }
 },
 "nbformat": 4,
 "nbformat_minor": 4
}
