{
 "cells": [
  {
   "cell_type": "markdown",
   "metadata": {
    "id": "jBRanSDYONFo"
   },
   "source": [
    "# K-means\n",
    "https://scikit-learn.org/stable/\n",
    "<img src=\"https://mofanpy.com/static/results/sklearn/2_1_1.png\">\n",
    "\n",
    "## K-means是一種分群方法，為非監督式學習\n",
    "\n",
    "### 1. 設定n群\n",
    "### 2. K-means隨機給予n個群心\n",
    "### 3. 每個點用距離公式計算並分類給最近的群\n",
    "### 4. 用每一群的點重新計算群心\n",
    "### 5. 重複3、4步驟直到收斂"
   ]
  },
  {
   "cell_type": "code",
   "execution_count": null,
   "metadata": {
    "id": "EWFEgkKYONFv",
    "outputId": "c9ae8777-f1a8-4395-fb22-953217bf90fe"
   },
   "outputs": [],
   "source": [
    "%matplotlib inline\n",
    "\n",
    "import random\n",
    "import numpy as np\n",
    "from sklearn import cluster, metrics\n",
    "import matplotlib.pyplot as plt\n",
    "\n",
    "feature = np.array([2, 2])\n",
    "for i in range(3000):\n",
    "    if i%3 == 0:\n",
    "        x = 3 + random.normalvariate(0, 1.2)\n",
    "        y = 3 + random.normalvariate(0, 1.2)\n",
    "        feature = np.vstack((feature, [x, y]))\n",
    "        plt.scatter(x, y , color='b', s=2)\n",
    "    elif i%3 == 1:\n",
    "        x = 7 + random.normalvariate(0, 1)\n",
    "        y = 7 + random.normalvariate(0, 1)\n",
    "        feature = np.vstack((feature, [x, y]))\n",
    "        plt.scatter(x, y , color='r', s=2)\n",
    "    else:\n",
    "        x = 8 + random.normalvariate(0, 0.7)\n",
    "        y = 2 + random.normalvariate(0, 0.7)\n",
    "        feature = np.vstack((feature, [x, y]))\n",
    "        plt.scatter(x, y , color='g', s=2)\n",
    "feature = feature[1:]\n",
    "\n",
    "plt.xlim(0, 10)\n",
    "plt.ylim(0, 10)\n",
    "plt.show()"
   ]
  },
  {
   "cell_type": "code",
   "execution_count": null,
   "metadata": {
    "id": "HZOS55DSONFx",
    "outputId": "029e25db-48eb-4c1c-b362-f8f3cd2014bb"
   },
   "outputs": [],
   "source": [
    "feature"
   ]
  },
  {
   "cell_type": "markdown",
   "metadata": {
    "id": "614yh_GoONFx"
   },
   "source": [
    "### K-means官方文件\n",
    "https://scikit-learn.org/stable/modules/generated/sklearn.cluster.KMeans.html"
   ]
  },
  {
   "cell_type": "code",
   "execution_count": null,
   "metadata": {
    "id": "Kz5nzsKxONFy",
    "outputId": "56e6158b-b191-45b3-fdc9-bdfc7d4d6616"
   },
   "outputs": [],
   "source": [
    "# 迴圈\n",
    "silhouette_avgs = []\n",
    "ks = range(2, 7)\n",
    "for k in ks:\n",
    "    kmeans_fit = cluster.KMeans(n_clusters = k).fit(feature)\n",
    "    cluster_labels = kmeans_fit.labels_\n",
    "    silhouette_avg = metrics.silhouette_score(feature, cluster_labels) # -1 ~ 1\n",
    "    silhouette_avgs.append(silhouette_avg)\n",
    "\n",
    "# 作圖並印出 k = 2 到 10 的績效\n",
    "plt.bar(ks, silhouette_avgs)\n",
    "plt.show()\n",
    "print(silhouette_avgs)"
   ]
  },
  {
   "cell_type": "code",
   "execution_count": null,
   "metadata": {
    "id": "WO6kMI98ONFy",
    "outputId": "82d31405-dd50-4d22-9b3f-1967a620552f"
   },
   "outputs": [],
   "source": [
    "print(cluster_labels)"
   ]
  },
  {
   "cell_type": "code",
   "execution_count": null,
   "metadata": {
    "id": "AKPDksZjONFy",
    "outputId": "ce0a4daf-be7a-442f-ab88-6063dd199124"
   },
   "outputs": [],
   "source": [
    "from IPython.display import HTML\n",
    "HTML('<iframe width=\"560\" height=\"315\" src=\"https://www.youtube.com/embed/0DGtyMBOZ-c\" frameborder=\"0\" allow=\"accelerometer; autoplay; clipboard-write; encrypted-media; gyroscope; picture-in-picture\" allowfullscreen></iframe>')\n",
    "# 出處: https://chih-sheng-huang821.medium.com/%E6%A9%9F%E5%99%A8%E5%AD%B8%E7%BF%92-%E9%9B%86%E7%BE%A4%E5%88%86%E6%9E%90-k-means-clustering-e608a7fe1b43"
   ]
  },
  {
   "cell_type": "markdown",
   "metadata": {
    "id": "M8dZ7g2YONFz"
   },
   "source": [
    "# KNN(k nearest neighbors)\n",
    "## KNN可以做分類或回歸，為監督式學習\n",
    "### 1. 設定k值\n",
    "### 2. 計算距離公式找出k個最相近的特徵\n",
    "### 3. 分類: k個特徵投票、回歸: 平均k個特徵\n",
    "<img src=\"https://ww2.mathworks.cn/matlabcentral/mlc-downloads/downloads/03faee64-e85e-4ea0-a2b4-e5964949e2d1/d99b9a4d-618c-45f0-86d1-388bdf852c1d/images/screenshot.gif\">"
   ]
  },
  {
   "cell_type": "markdown",
   "metadata": {
    "id": "HXmSczCkONFz"
   },
   "source": [
    "### 蒐集資料\n",
    "python MLGame.py -i ml_play_template.py -f 200 -r arkanoid NORMAL 3"
   ]
  },
  {
   "cell_type": "code",
   "execution_count": 2,
   "metadata": {
    "id": "TozTZRBHONFz",
    "outputId": "062f2e9a-1b66-4304-ae57-6e672e9bdc79",
    "scrolled": true
   },
   "outputs": [
    {
     "ename": "FileNotFoundError",
     "evalue": "[Errno 2] No such file or directory: '../log/n3 (1).pickle'",
     "output_type": "error",
     "traceback": [
      "\u001b[1;31m---------------------------------------------------------------------------\u001b[0m",
      "\u001b[1;31mFileNotFoundError\u001b[0m                         Traceback (most recent call last)",
      "\u001b[1;32m<ipython-input-2-e58853d7b53f>\u001b[0m in \u001b[0;36m<module>\u001b[1;34m\u001b[0m\n\u001b[0;32m      8\u001b[0m \u001b[1;33m\u001b[0m\u001b[0m\n\u001b[0;32m      9\u001b[0m \u001b[1;31m#試取資料\u001b[0m\u001b[1;33m\u001b[0m\u001b[1;33m\u001b[0m\u001b[1;33m\u001b[0m\u001b[0m\n\u001b[1;32m---> 10\u001b[1;33m \u001b[0mfile\u001b[0m \u001b[1;33m=\u001b[0m \u001b[0mopen\u001b[0m\u001b[1;33m(\u001b[0m\u001b[1;34m\"../log/n3 (1).pickle\"\u001b[0m\u001b[1;33m,\u001b[0m \u001b[1;34m\"rb\"\u001b[0m\u001b[1;33m)\u001b[0m\u001b[1;33m\u001b[0m\u001b[1;33m\u001b[0m\u001b[0m\n\u001b[0m\u001b[0;32m     11\u001b[0m \u001b[0mdata\u001b[0m \u001b[1;33m=\u001b[0m \u001b[0mpickle\u001b[0m\u001b[1;33m.\u001b[0m\u001b[0mload\u001b[0m\u001b[1;33m(\u001b[0m\u001b[0mfile\u001b[0m\u001b[1;33m)\u001b[0m\u001b[1;33m\u001b[0m\u001b[1;33m\u001b[0m\u001b[0m\n\u001b[0;32m     12\u001b[0m \u001b[0mfile\u001b[0m\u001b[1;33m.\u001b[0m\u001b[0mclose\u001b[0m\u001b[1;33m(\u001b[0m\u001b[1;33m)\u001b[0m\u001b[1;33m\u001b[0m\u001b[1;33m\u001b[0m\u001b[0m\n",
      "\u001b[1;31mFileNotFoundError\u001b[0m: [Errno 2] No such file or directory: '../log/n3 (1).pickle'"
     ]
    }
   ],
   "source": [
    "import pickle\n",
    "import numpy as np\n",
    "from sklearn.neighbors import KNeighborsClassifier\n",
    "from sklearn.model_selection import train_test_split, cross_val_score\n",
    "from sklearn.metrics import  classification_report, confusion_matrix\n",
    "from sklearn.model_selection import GridSearchCV\n",
    "from sklearn.model_selection import StratifiedShuffleSplit\n",
    "\n",
    "#試取資料\n",
    "file = open(\"../log/n3 (1).pickle\", \"rb\")\n",
    "data = pickle.load(file)\n",
    "file.close()\n",
    "\n",
    "print(data)"
   ]
  },
  {
   "cell_type": "code",
   "execution_count": 12,
   "metadata": {
    "id": "UX6yDr2KONF0",
    "outputId": "4dca38bd-4339-4955-ab34-4bde300f14d5"
   },
   "outputs": [
    {
     "ename": "KeyError",
     "evalue": "'scene_info'",
     "output_type": "error",
     "traceback": [
      "\u001b[1;31m---------------------------------------------------------------------------\u001b[0m",
      "\u001b[1;31mKeyError\u001b[0m                                  Traceback (most recent call last)",
      "\u001b[1;32m<ipython-input-12-a908cd4cd60e>\u001b[0m in \u001b[0;36m<module>\u001b[1;34m\u001b[0m\n\u001b[1;32m----> 1\u001b[1;33m \u001b[0mgame_info\u001b[0m \u001b[1;33m=\u001b[0m \u001b[0mdata\u001b[0m\u001b[1;33m[\u001b[0m\u001b[1;34m'scene_info'\u001b[0m\u001b[1;33m]\u001b[0m\u001b[1;33m\u001b[0m\u001b[1;33m\u001b[0m\u001b[0m\n\u001b[0m\u001b[0;32m      2\u001b[0m \u001b[0mgame_command\u001b[0m \u001b[1;33m=\u001b[0m \u001b[0mdata\u001b[0m\u001b[1;33m[\u001b[0m\u001b[1;34m'command'\u001b[0m\u001b[1;33m]\u001b[0m\u001b[1;33m\u001b[0m\u001b[1;33m\u001b[0m\u001b[0m\n\u001b[0;32m      3\u001b[0m \u001b[0mprint\u001b[0m\u001b[1;33m(\u001b[0m\u001b[0mgame_info\u001b[0m\u001b[1;33m)\u001b[0m\u001b[1;33m\u001b[0m\u001b[1;33m\u001b[0m\u001b[0m\n\u001b[0;32m      4\u001b[0m \u001b[0mprint\u001b[0m\u001b[1;33m(\u001b[0m\u001b[0mgame_command\u001b[0m\u001b[1;33m)\u001b[0m\u001b[1;33m\u001b[0m\u001b[1;33m\u001b[0m\u001b[0m\n",
      "\u001b[1;31mKeyError\u001b[0m: 'scene_info'"
     ]
    }
   ],
   "source": [
    "game_info = data['scene_info']\n",
    "game_command = data['command']\n",
    "print(game_info)\n",
    "print(game_command)"
   ]
  },
  {
   "cell_type": "code",
   "execution_count": 14,
   "metadata": {
    "id": "DdIpphLuONF0",
    "outputId": "4b6dc659-e2b1-4289-b4c1-9acfec93e791",
    "scrolled": true
   },
   "outputs": [
    {
     "name": "stdout",
     "output_type": "stream",
     "text": [
      "50196\n",
      "50196\n"
     ]
    }
   ],
   "source": [
    "game_info=[]\n",
    "game_command=[]\n",
    "import os\n",
    "dir_path = \"..\\log\"\n",
    "for file_path in os.listdir(dir_path):\n",
    "    with open('..\\\\log\\\\' + file_path ,'rb') as f:\n",
    "        data = pickle.load(f)\n",
    "    game_info = game_info + data['scene_info']\n",
    "    game_command = game_command + data['command']\n",
    "print(len(game_info))\n",
    "print(len(game_command))"
   ]
  },
  {
   "cell_type": "markdown",
   "metadata": {
    "id": "uf377xTeONF1"
   },
   "source": [
    "### 特徵整理"
   ]
  },
  {
   "cell_type": "code",
   "execution_count": 15,
   "metadata": {
    "id": "vrbGJW3sONF1",
    "outputId": "14cc3a4e-20ac-4bea-b33e-e2c0e3040946",
    "scrolled": true
   },
   "outputs": [
    {
     "name": "stdout",
     "output_type": "stream",
     "text": [
      "[ 93 395  75  50]\n",
      "NONE\n"
     ]
    }
   ],
   "source": [
    "g = game_info[1]\n",
    "# l = game_info[i - 1]\n",
    "x = g['ball'][0]\n",
    "y = g['ball'][1]\n",
    "# xl = l['ball'][0]\n",
    "# yl = l['ball'][1]\n",
    "xs = 0\n",
    "ys = 0\n",
    "x_speed = 0\n",
    "y_speed = 0\n",
    "direct = 50\n",
    "brick = len(g[\"bricks\"])\n",
    "# feature = np.array([g['ball'][0], g['ball'][1], g['platform'][0]])\n",
    "feature = np.array([g['ball'][0], g['ball'][1], g['platform'][0],direct])\n",
    "print(feature)\n",
    "\n",
    "print(game_command[1])\n",
    "game_command[1] = 0"
   ]
  },
  {
   "cell_type": "code",
   "execution_count": 17,
   "metadata": {
    "id": "vLNS9fchONF1",
    "outputId": "112f7edc-2608-4d2b-91b2-9f2144520d79",
    "scrolled": false
   },
   "outputs": [
    {
     "name": "stdout",
     "output_type": "stream",
     "text": [
      "(50194, 4)\n",
      "(50194,)\n"
     ]
    }
   ],
   "source": [
    "for i in range(2, len(game_info) - 1):\n",
    "    g = game_info[i]\n",
    "    l = game_info[i - 1]\n",
    "    x = g['ball'][0]\n",
    "    y = g['ball'][1]\n",
    "    xl = l['ball'][0]\n",
    "    yl = l['ball'][1]\n",
    "    xs = x - g['platform'][0]\n",
    "    ys = y - 395\n",
    "    x_speed = x - xl\n",
    "    y_speed = x - xl\n",
    "    if x_speed < 0:\n",
    "        if y_speed < 0:\n",
    "            direct = 50\n",
    "        else :direct = 100\n",
    "    else:\n",
    "        if y_speed < 0:\n",
    "            direct = 150\n",
    "        else :direct = 200\n",
    "    brick = len(g[\"bricks\"])\n",
    "#     feature = np.vstack((feature, [x, y, g['platform'][0]]))\n",
    "    feature = np.vstack((feature, [x, y, g['platform'][0],direct]))\n",
    "    if game_command[i] == \"NONE\": game_command[i] = 0\n",
    "    elif game_command[i] == \"MOVE_LEFT\": game_command[i] = 1\n",
    "    else: game_command[i] = 2\n",
    "    \n",
    "answer = np.array(game_command[1:-1])\n",
    "\n",
    "# print(feature)\n",
    "print(feature.shape)\n",
    "# for i in range(10000):\n",
    "#     print(answer[i])    \n",
    "print(answer.shape)"
   ]
  },
  {
   "cell_type": "markdown",
   "metadata": {
    "id": "hoB67BEKONF2"
   },
   "source": [
    "### KNN官方文件\n",
    "https://scikit-learn.org/stable/modules/generated/sklearn.neighbors.KNeighborsClassifier.html\n",
    "### 交叉驗證\n",
    "https://chih-sheng-huang821.medium.com/%E4%BA%A4%E5%8F%89%E9%A9%97%E8%AD%89-cross-validation-cv-3b2c714b18db"
   ]
  },
  {
   "cell_type": "code",
   "execution_count": 18,
   "metadata": {
    "id": "DVP_DYYyONF2",
    "outputId": "988f0f90-10d7-43ce-df0b-c02198353d47"
   },
   "outputs": [
    {
     "name": "stdout",
     "output_type": "stream",
     "text": [
      "Fitting 2 folds for each of 3 candidates, totalling 6 fits\n"
     ]
    },
    {
     "name": "stderr",
     "output_type": "stream",
     "text": [
      "[Parallel(n_jobs=-1)]: Using backend LokyBackend with 8 concurrent workers.\n",
      "[Parallel(n_jobs=-1)]: Done   2 out of   6 | elapsed:    0.5s remaining:    1.1s\n",
      "[Parallel(n_jobs=-1)]: Done   3 out of   6 | elapsed:    0.5s remaining:    0.5s\n",
      "[Parallel(n_jobs=-1)]: Done   4 out of   6 | elapsed:    0.5s remaining:    0.2s\n",
      "[Parallel(n_jobs=-1)]: Done   6 out of   6 | elapsed:    1.3s remaining:    0.0s\n",
      "[Parallel(n_jobs=-1)]: Done   6 out of   6 | elapsed:    1.3s finished\n"
     ]
    }
   ],
   "source": [
    "#資料劃分\n",
    "from sklearn.ensemble import RandomForestClassifier\n",
    "x_train, x_test, y_train, y_test = train_test_split(feature, answer, test_size=0.33, random_state=9)\n",
    "#參數區間\n",
    "param_grid = {'n_neighbors':[1, 2, 3]}\n",
    "#交叉驗證 \n",
    "cv = StratifiedShuffleSplit(n_splits=2, test_size=0.3, random_state=12)\n",
    "grid = GridSearchCV(KNeighborsClassifier(), param_grid, cv=cv, verbose=10, n_jobs=-1) #n_jobs為平行運算的數量\n",
    "grid.fit(x_train, y_train)\n",
    "grid_predictions = grid.predict(x_test)\n",
    "\n",
    "#儲存\n",
    "file = open('KNN.pickle', 'wb')\n",
    "pickle.dump(grid, file)\n",
    "file.close()"
   ]
  },
  {
   "cell_type": "markdown",
   "metadata": {
    "id": "hFq3Qw71ONF2"
   },
   "source": [
    "### f1-score\n",
    "https://medium.com/nlp-tsupei/precision-recall-f1-score%E7%B0%A1%E5%96%AE%E4%BB%8B%E7%B4%B9-f87baa82a47"
   ]
  },
  {
   "cell_type": "code",
   "execution_count": 19,
   "metadata": {
    "id": "VvI9h2a9ONF3",
    "outputId": "52ee94a2-6b62-46e5-e8b9-f70cb0aa6f4f",
    "scrolled": true
   },
   "outputs": [
    {
     "name": "stdout",
     "output_type": "stream",
     "text": [
      "{'n_neighbors': 1}\n",
      "[[12651     0     6]\n",
      " [    1  1939     0]\n",
      " [   10     0  1958]]\n",
      "              precision    recall  f1-score   support\n",
      "\n",
      "           0       1.00      1.00      1.00     12657\n",
      "           1       1.00      1.00      1.00      1940\n",
      "           2       1.00      0.99      1.00      1968\n",
      "\n",
      "    accuracy                           1.00     16565\n",
      "   macro avg       1.00      1.00      1.00     16565\n",
      "weighted avg       1.00      1.00      1.00     16565\n",
      "\n"
     ]
    }
   ],
   "source": [
    "#最佳參數\n",
    "print(grid.best_params_)\n",
    "#預測結果\n",
    "#print(grid_predictions)\n",
    "#混淆矩陣\n",
    "print(confusion_matrix(y_test, grid_predictions))\n",
    "#分類結果\n",
    "print(classification_report(y_test, grid_predictions))"
   ]
  },
  {
   "cell_type": "markdown",
   "metadata": {
    "id": "wiGbAra8ONF3"
   },
   "source": [
    "### 執行遊戲\n",
    "python MLGame.py -i knn.py -f 50 arkanoid NORMAL 3"
   ]
  }
 ],
 "metadata": {
  "colab": {
   "name": "K-Means KNN Tutorial.ipynb",
   "provenance": []
  },
  "kernelspec": {
   "display_name": "Python 3",
   "language": "python",
   "name": "python3"
  },
  "language_info": {
   "codemirror_mode": {
    "name": "ipython",
    "version": 3
   },
   "file_extension": ".py",
   "mimetype": "text/x-python",
   "name": "python",
   "nbconvert_exporter": "python",
   "pygments_lexer": "ipython3",
   "version": "3.8.5"
  }
 },
 "nbformat": 4,
 "nbformat_minor": 1
}
